{
 "cells": [
  {
   "cell_type": "code",
   "execution_count": 44,
   "metadata": {},
   "outputs": [
    {
     "name": "stdout",
     "output_type": "stream",
     "text": [
      "The sagemaker_studio_analytics_extension.magics extension is already loaded. To reload it, use:\n",
      "  %reload_ext sagemaker_studio_analytics_extension.magics\n",
      "Initiating EMR connection..\n",
      "Starting Spark application\n"
     ]
    },
    {
     "data": {
      "text/html": [
       "<table>\n",
       "<tr><th>ID</th><th>YARN Application ID</th><th>Kind</th><th>State</th><th>Spark UI</th><th>Driver log</th><th>User</th><th>Current session?</th></tr><tr><td>4</td><td>application_1649316171984_0006</td><td>pyspark</td><td>idle</td><td><a target=\"_blank\" href=\"http://ip-10-0-20-144.ec2.internal:20888/proxy/application_1649316171984_0006/\">Link</a></td><td><a target=\"_blank\" href=\"http://ip-10-0-20-81.ec2.internal:8042/node/containerlogs/container_1649316171984_0006_01_000001/livy\">Link</a></td><td>None</td><td>✔</td></tr></table>"
      ],
      "text/plain": [
       "<IPython.core.display.HTML object>"
      ]
     },
     "metadata": {},
     "output_type": "display_data"
    },
    {
     "data": {
      "application/vnd.jupyter.widget-view+json": {
       "model_id": "",
       "version_major": 2,
       "version_minor": 0
      },
      "text/plain": [
       "FloatProgress(value=0.0, bar_style='info', description='Progress:', layout=Layout(height='25px', width='50%'),…"
      ]
     },
     "metadata": {},
     "output_type": "display_data"
    },
    {
     "name": "stdout",
     "output_type": "stream",
     "text": [
      "SparkSession available as 'spark'.\n",
      "{\"namespace\": \"sagemaker-analytics\", \"cluster_id\": \"j-30GQL37TFA5B5\", \"error_message\": null, \"success\": true, \"service\": \"emr\", \"operation\": \"connect\"}\n"
     ]
    }
   ],
   "source": [
    "%load_ext sagemaker_studio_analytics_extension.magics\n",
    "%sm_analytics emr connect --cluster-id j-30GQL37TFA5B5 --auth-type None  "
   ]
  },
  {
   "cell_type": "markdown",
   "metadata": {},
   "source": [
    "#### 注意事项\n",
    "\n",
    "您需要访问设置为使用 Amazon Virtual Private Cloud (Amazon VPC) 模式的 SageMaker Studio。\n",
    "\n",
    "SageMaker Studio 使用的所有子网必须是私有子网。\n",
    "\n",
    "如果您将sm-analytics实用程序来配置 SparkMagic 内核，请遵循以下两个先决条件之一：\n",
    "\n",
    "- 确保 Amazon VPC 接口终端节点已连接到 SageMaker Studio 使用的所有子网。\n",
    "\n",
    "- 确保 SageMaker Studio 使用的所有子网都路由为使用 NAT 网关。有关更多信息，请参阅 。NAT 网关.\n",
    "\n",
    "如果以下任一点适用于您，则在使用亚马逊 EMR 时必须安装 Spark 和 Livy。\n",
    "\n",
    "- 您的亚马逊 EMR 集群与 Studio 位于同一亚马逊 VPC 中。\n",
    "\n",
    "- 您的集群位于连接到 Studio 中的 Amazon VPC 中的亚马逊 VPC 中。\n",
    "\n",
    "Amazon SageMaker Studio 和亚马逊 EMR 的安全组必须允许相互访问和相互访问。\n",
    "\n",
    "您的亚马逊 EMR 安全组必须打开端口 8998，以便 Amazon SageMaker Studio 可以通过 Livy 与 Spark 集群进行通信。"
   ]
  },
  {
   "cell_type": "code",
   "execution_count": 45,
   "metadata": {},
   "outputs": [
    {
     "data": {
      "application/vnd.jupyter.widget-view+json": {
       "model_id": "",
       "version_major": 2,
       "version_minor": 0
      },
      "text/plain": [
       "FloatProgress(value=0.0, bar_style='info', description='Progress:', layout=Layout(height='25px', width='50%'),…"
      ]
     },
     "metadata": {},
     "output_type": "display_data"
    },
    {
     "name": "stdout",
     "output_type": "stream",
     "text": [
      "<pyspark.sql.session.SparkSession object at 0x7f4457a65190>"
     ]
    }
   ],
   "source": [
    "from pyspark.sql.session import SparkSession\n",
    "\n",
    "spark = SparkSession(sc)\n",
    "spark"
   ]
  },
  {
   "cell_type": "markdown",
   "metadata": {},
   "source": [
    "### 处理原始数据 \n",
    "\n",
    "将S3导出数据进行处理\n"
   ]
  },
  {
   "cell_type": "code",
   "execution_count": 51,
   "metadata": {},
   "outputs": [
    {
     "data": {
      "application/vnd.jupyter.widget-view+json": {
       "model_id": "",
       "version_major": 2,
       "version_minor": 0
      },
      "text/plain": [
       "FloatProgress(value=0.0, bar_style='info', description='Progress:', layout=Layout(height='25px', width='50%'),…"
      ]
     },
     "metadata": {},
     "output_type": "display_data"
    },
    {
     "name": "stdout",
     "output_type": "stream",
     "text": [
      "+-------+-------------------+----+--------------------+----+-----+---------+------+--------+-------------------+----------+-----+--------------------+-----+-----+\n",
      "| symbol|counterparty_userid|side|             orderid| fee|label|last_deal|userid|fee_rate|couterparty_orderid|      size|price|               logid|funds|   id|\n",
      "+-------+-------------------+----+--------------------+----+-----+---------+------+--------+-------------------+----------+-----+--------------------+-----+-----+\n",
      "|HOT-ETH|             858368|NULL|5e3b6f8d6e350a000...|0.00|    0|        1|825120|    0.00|               NULL|1422832.50| 0.00|5e3b6f932e6dcc61d...| 0.00|13185|\n",
      "|HOT-ETH|             858368|NULL|5e3b3e4e6e350a000...|0.00|    0|        1|355168|    0.00|               NULL|4395849.50| 0.00|5e3b3e4f2e6dcc61d...| 0.00| 7356|\n",
      "|HOT-ETH|             858368|NULL|5e3b51446e350a000...|0.00|    0|        1|391744|    0.00|               NULL|7238881.50| 0.00|5e3b51482e6dcc61d...| 0.00|10368|\n",
      "|HOT-ETH|             858368|NULL|5e3b4683cfbd03000...|0.00|    0|        1|355168|    0.00|               NULL|4419435.50| 0.00|5e3b46842e6dcc61d...| 0.00| 9069|\n",
      "|HOT-ETH|             858368|NULL|5e3afc31051a35000...|0.00|    0|        1|882176|    0.00|               NULL|8572944.00| 0.00|5e3afca62e6dcc61d...| 0.00| 1213|\n",
      "|HOT-ETH|             858368|NULL|5e3b64131fbc8d000...|0.00|    0|        1|391744|    0.00|               NULL|7238881.50| 0.00|5e3b64182e6dcc61d...| 0.00|12214|\n",
      "|HOT-ETH|             858368|NULL|5e3b81066e350a000...|0.00|    0|        1|355168|    0.00|               NULL|3266979.75| 0.00|5e3b81082e6dcc61d...| 0.00|14106|\n",
      "|HOT-ETH|             858368|NULL|5e3b1d0e051a35000...|0.00|    0|        1|825120|    0.00|               NULL|1422832.50| 0.00|5e3b1d102e6dcc61d...| 0.00| 3595|\n",
      "|HOT-ETH|             858368|NULL|5e3b78e2cfbd03000...|0.00|    0|        1|631232|    0.00|               NULL| 472314.31| 0.00|5e3b79072e6dcc61d...| 0.00|13714|\n",
      "|HOT-ETH|             858368|NULL|5e3b51896e350a000...|0.00|    0|        1|355168|    0.00|               NULL|1518481.25| 0.00|5e3b518b2e6dcc61d...| 0.00|10414|\n",
      "|HOT-ETH|             858368|NULL|5e3b7bb66e350a000...|0.00|    0|        1|825120|    0.00|               NULL|1422832.50| 0.00|5e3b7bb82e6dcc61d...| 0.00|13873|\n",
      "|HOT-ETH|             858368|NULL|5e3b6ce66e350a000...|0.00|    0|        1|391744|    0.00|               NULL|7238881.50| 0.00|5e3b6ce92e6dcc61d...| 0.00|12948|\n",
      "|HOT-ETH|             858368|NULL|5e3b51fccfbd03000...|0.00|    0|        1|631232|    0.00|               NULL| 418769.25| 0.00|5e3b52402e6dcc61d...| 0.00|10537|\n",
      "|HOT-ETH|             858368|NULL|5e3b37440fb53d000...|0.00|    0|        1|355168|    0.00|               NULL|3628100.25| 0.00|5e3b37452e6dcc61d...| 0.00| 5440|\n",
      "|HOT-ETH|             858368|NULL|5e3b64600fb53d000...|0.00|    0|        1|825120|    0.00|               NULL|1422832.50| 0.00|5e3b64632e6dcc61d...| 0.00|12276|\n",
      "|HOT-ETH|             858368|NULL|5e3b513d1fbc8d000...|0.00|    0|        1|825120|    0.00|               NULL|1422832.50| 0.00|5e3b513f2e6dcc61d...| 0.00|10355|\n",
      "|HOT-ETH|             858368|NULL|5e3b56c56e350a000...|0.00|    0|        1|391744|    0.00|               NULL|7238881.50| 0.00|5e3b570a2e6dcc61d...| 0.00|10856|\n",
      "|HOT-ETH|             858368|NULL|5e3ae7ce1fbc8d000...|0.00|    0|        1|825120|    0.00|               NULL|1422832.50| 0.00|5e3ae80a2e6dcc61d...| 0.00|  103|\n",
      "|HOT-ETH|             858368|NULL|5e3b617d051a35000...|0.00|    0|        1|825120|    0.00|               NULL|1422832.50| 0.00|5e3b61812e6dcc61d...| 0.00|11782|\n",
      "|HOT-ETH|             858368|NULL|5e3b3e8b051a35000...|0.00|    0|        1|391744|    0.00|               NULL|7238881.50| 0.00|5e3b3e8e2e6dcc61d...| 0.00| 7404|\n",
      "+-------+-------------------+----+--------------------+----+-----+---------+------+--------+-------------------+----------+-----+--------------------+-----+-----+\n",
      "only showing top 20 rows"
     ]
    }
   ],
   "source": [
    "df=spark.read.csv(\"s3://my-ml-buckets/workshop-data/\", header=True)\n",
    "df.show()"
   ]
  },
  {
   "cell_type": "code",
   "execution_count": 52,
   "metadata": {},
   "outputs": [
    {
     "data": {
      "application/vnd.jupyter.widget-view+json": {
       "model_id": "",
       "version_major": 2,
       "version_minor": 0
      },
      "text/plain": [
       "FloatProgress(value=0.0, bar_style='info', description='Progress:', layout=Layout(height='25px', width='50%'),…"
      ]
     },
     "metadata": {},
     "output_type": "display_data"
    }
   ],
   "source": [
    "df.repartition(1).write.format(\"com.databricks.spark.csv\").option(\"header\", \"true\").save(\"s3://my-ml-buckets/workshop-prepared-data\")"
   ]
  },
  {
   "cell_type": "code",
   "execution_count": 39,
   "metadata": {},
   "outputs": [
    {
     "data": {
      "application/vnd.jupyter.widget-view+json": {
       "model_id": "",
       "version_major": 2,
       "version_minor": 0
      },
      "text/plain": [
       "FloatProgress(value=0.0, bar_style='info', description='Progress:', layout=Layout(height='25px', width='50%'),…"
      ]
     },
     "metadata": {},
     "output_type": "display_data"
    },
    {
     "name": "stdout",
     "output_type": "stream",
     "text": [
      "root\n",
      " |-- fee: string (nullable = true)\n",
      " |-- fee_hold: string (nullable = true)\n",
      " |-- price: string (nullable = true)\n",
      " |-- funds: string (nullable = true)\n",
      " |-- side: string (nullable = true)\n",
      " |-- label: string (nullable = true)\n",
      " |-- done: string (nullable = true)\n",
      " |-- fee_rate: string (nullable = true)\n",
      " |-- force_taker: string (nullable = true)\n",
      " |-- size: string (nullable = true)\n",
      " |-- user_id: string (nullable = true)\n",
      " |-- status: string (nullable = true)"
     ]
    }
   ],
   "source": [
    "data = spark.read.csv(\"s3://my-ml-buckets/workshop-prepared-data\", header=True)  \n",
    "data.drop(\"symbol\",\"trade_time\",\"account_quote_biz_no\",\"created_at\",\"liquidity\",\"type\",\"domain_id\",\"trade_id\",\"updated_at\",\\\n",
    "          \"counter_order_id\",\"counter_user_id\",\"account_base_order_id\",\"account_base_biz_no\",\"negative_fee_order_id\",\\\n",
    "          \"fee_currency\",\"id\",\"order_type\",\"trade_source\",\"trade_updated_at\",\"stop\",\"negative_fee_biz_no\",\"account_quote_order_id\",\\\n",
    "          \"trade_type\",\"market_price\",\"trade_created_at\",\"order_id\",\"status\"\\\n",
    "         ).printSchema()"
   ]
  },
  {
   "cell_type": "code",
   "execution_count": 42,
   "metadata": {},
   "outputs": [
    {
     "data": {
      "application/vnd.jupyter.widget-view+json": {
       "model_id": "",
       "version_major": 2,
       "version_minor": 0
      },
      "text/plain": [
       "FloatProgress(value=0.0, bar_style='info', description='Progress:', layout=Layout(height='25px', width='50%'),…"
      ]
     },
     "metadata": {},
     "output_type": "display_data"
    },
    {
     "name": "stderr",
     "output_type": "stream",
     "text": [
      "An error was encountered:\n",
      "'Column' object is not callable\n",
      "Traceback (most recent call last):\n",
      "TypeError: 'Column' object is not callable\n",
      "\n"
     ]
    }
   ],
   "source": [
    "# 转化side列\n",
    "from pyspark.sql.functions import col, create_map, lit\n",
    "from itertools import chain\n",
    "\n",
    "mapping = {'buy': 2, 'sell': 1}\n",
    "\n",
    "mapping_expr = create_map([lit(x) for x in chain(*mapping.items())])\n",
    "\n",
    "mapping_expr.show()"
   ]
  },
  {
   "cell_type": "code",
   "execution_count": 18,
   "metadata": {},
   "outputs": [
    {
     "data": {
      "application/vnd.jupyter.widget-view+json": {
       "model_id": "",
       "version_major": 2,
       "version_minor": 0
      },
      "text/plain": [
       "FloatProgress(value=0.0, bar_style='info', description='Progress:', layout=Layout(height='25px', width='50%'),…"
      ]
     },
     "metadata": {},
     "output_type": "display_data"
    }
   ],
   "source": [
    "# 切分数据集\n",
    "train_df, test_df = data.randomSplit([0.9, 0.1], 42)\n",
    "train_df, val_df = train_df.randomSplit([0.8, 0.2], 42)"
   ]
  },
  {
   "cell_type": "code",
   "execution_count": 33,
   "metadata": {},
   "outputs": [
    {
     "data": {
      "application/vnd.jupyter.widget-view+json": {
       "model_id": "",
       "version_major": 2,
       "version_minor": 0
      },
      "text/plain": [
       "FloatProgress(value=0.0, bar_style='info', description='Progress:', layout=Layout(height='25px', width='50%'),…"
      ]
     },
     "metadata": {},
     "output_type": "display_data"
    }
   ],
   "source": [
    "# shuffle data\n",
    "from pyspark.sql.functions import rand\n",
    "\n",
    "def shuffle_df(df):\n",
    "    df_with_rand = df.withColumn('rand', rand(seed=42)).orderBy('rand')\n",
    "    df_shuffle = df_with_rand.drop('rand')\n",
    "    return df_shuffle\n",
    "\n",
    "train_df_shuffle = shuffle_df(train_df)\n",
    "val_df_shuffle = shuffle_df(val_df)\n",
    "test_df_shuffle = shuffle_df(test_df)"
   ]
  },
  {
   "cell_type": "code",
   "execution_count": 35,
   "metadata": {},
   "outputs": [
    {
     "data": {
      "application/vnd.jupyter.widget-view+json": {
       "model_id": "",
       "version_major": 2,
       "version_minor": 0
      },
      "text/plain": [
       "FloatProgress(value=0.0, bar_style='info', description='Progress:', layout=Layout(height='25px', width='50%'),…"
      ]
     },
     "metadata": {},
     "output_type": "display_data"
    }
   ],
   "source": [
    "# 上传至s3\n",
    "train_df_shuffle.coalesce(1).write.csv(\"s3://sagemaker-us-east-1-851108988172/detect-workshop/data_processed/xgboost_train\")\n",
    "val_df_shuffle.coalesce(1).write.csv(\"s3://sagemaker-us-east-1-851108988172/detect-workshop/data_processed/xgboost_val\")\n",
    "test_df_shuffle.coalesce(1).write.csv(\"s3://sagemaker-us-east-1-851108988172/detect-workshop/data_processed/xgboost_test\")"
   ]
  },
  {
   "cell_type": "code",
   "execution_count": null,
   "metadata": {},
   "outputs": [],
   "source": []
  }
 ],
 "metadata": {
  "instance_type": "ml.t3.medium",
  "kernelspec": {
   "display_name": "PySpark (SparkMagic)",
   "language": "python",
   "name": "pysparkkernel__SAGEMAKER_INTERNAL__arn:aws:sagemaker:us-east-1:081325390199:image/sagemaker-sparkmagic"
  },
  "language_info": {
   "codemirror_mode": {
    "name": "python",
    "version": 3
   },
   "file_extension": ".py",
   "mimetype": "text/x-python",
   "name": "pyspark",
   "pygments_lexer": "python3"
  }
 },
 "nbformat": 4,
 "nbformat_minor": 4
}
