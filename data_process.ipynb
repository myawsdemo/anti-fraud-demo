{
 "cells": [
  {
   "cell_type": "code",
   "execution_count": 25,
   "metadata": {},
   "outputs": [
    {
     "name": "stdout",
     "output_type": "stream",
     "text": [
      "The sagemaker_studio_analytics_extension.magics extension is already loaded. To reload it, use:\n",
      "  %reload_ext sagemaker_studio_analytics_extension.magics\n",
      "Initiating EMR connection..\n",
      "Starting Spark application\n"
     ]
    },
    {
     "data": {
      "text/html": [
       "<table>\n",
       "<tr><th>ID</th><th>YARN Application ID</th><th>Kind</th><th>State</th><th>Spark UI</th><th>Driver log</th><th>User</th><th>Current session?</th></tr><tr><td>0</td><td>application_1650067460964_0001</td><td>pyspark</td><td>idle</td><td><a target=\"_blank\" href=\"http://ip-10-5-1-27.ec2.internal:20888/proxy/application_1650067460964_0001/\">Link</a></td><td><a target=\"_blank\" href=\"http://ip-10-5-1-212.ec2.internal:8042/node/containerlogs/container_1650067460964_0001_01_000001/livy\">Link</a></td><td>None</td><td>✔</td></tr></table>"
      ],
      "text/plain": [
       "<IPython.core.display.HTML object>"
      ]
     },
     "metadata": {},
     "output_type": "display_data"
    },
    {
     "data": {
      "application/vnd.jupyter.widget-view+json": {
       "model_id": "",
       "version_major": 2,
       "version_minor": 0
      },
      "text/plain": [
       "FloatProgress(value=0.0, bar_style='info', description='Progress:', layout=Layout(height='25px', width='50%'),…"
      ]
     },
     "metadata": {},
     "output_type": "display_data"
    },
    {
     "name": "stdout",
     "output_type": "stream",
     "text": [
      "SparkSession available as 'spark'.\n",
      "{\"namespace\": \"sagemaker-analytics\", \"cluster_id\": \"j-Y8H7E819F8SD\", \"error_message\": null, \"success\": true, \"service\": \"emr\", \"operation\": \"connect\"}\n"
     ]
    }
   ],
   "source": [
    "%load_ext sagemaker_studio_analytics_extension.magics\n",
    "%sm_analytics emr connect --cluster-id j-Y8H7E819F8SD --auth-type None  "
   ]
  },
  {
   "cell_type": "markdown",
   "metadata": {},
   "source": [
    "#### 注意事项\n",
    "\n",
    "您需要访问设置为使用 Amazon Virtual Private Cloud (Amazon VPC) 模式的 SageMaker Studio。\n",
    "\n",
    "SageMaker Studio 使用的所有子网必须是私有子网。\n",
    "\n",
    "如果您将sm-analytics实用程序来配置 SparkMagic 内核，请遵循以下两个先决条件之一：\n",
    "\n",
    "- 确保 Amazon VPC 接口终端节点已连接到 SageMaker Studio 使用的所有子网。\n",
    "\n",
    "- 确保 SageMaker Studio 使用的所有子网都路由为使用 NAT 网关。有关更多信息，请参阅 。NAT 网关.\n",
    "\n",
    "如果以下任一点适用于您，则在使用亚马逊 EMR 时必须安装 Spark 和 Livy。\n",
    "\n",
    "- 您的亚马逊 EMR 集群与 Studio 位于同一亚马逊 VPC 中。\n",
    "\n",
    "- 您的集群位于连接到 Studio 中的 Amazon VPC 中的亚马逊 VPC 中。\n",
    "\n",
    "Amazon SageMaker Studio 和亚马逊 EMR 的安全组必须允许相互访问和相互访问。\n",
    "\n",
    "您的亚马逊 EMR 安全组必须打开端口 8998，以便 Amazon SageMaker Studio 可以通过 Livy 与 Spark 集群进行通信。"
   ]
  },
  {
   "cell_type": "code",
   "execution_count": 26,
   "metadata": {},
   "outputs": [
    {
     "data": {
      "application/vnd.jupyter.widget-view+json": {
       "model_id": "",
       "version_major": 2,
       "version_minor": 0
      },
      "text/plain": [
       "FloatProgress(value=0.0, bar_style='info', description='Progress:', layout=Layout(height='25px', width='50%'),…"
      ]
     },
     "metadata": {},
     "output_type": "display_data"
    },
    {
     "name": "stdout",
     "output_type": "stream",
     "text": [
      "<pyspark.sql.session.SparkSession object at 0x7fe2cf74e3d0>"
     ]
    }
   ],
   "source": [
    "from pyspark.sql.session import SparkSession\n",
    "\n",
    "spark = SparkSession(sc)\n",
    "spark"
   ]
  },
  {
   "cell_type": "markdown",
   "metadata": {},
   "source": [
    "### 处理原始数据 \n",
    "\n",
    "将S3导出数据进行处理\n"
   ]
  },
  {
   "cell_type": "code",
   "execution_count": 28,
   "metadata": {},
   "outputs": [
    {
     "data": {
      "application/vnd.jupyter.widget-view+json": {
       "model_id": "",
       "version_major": 2,
       "version_minor": 0
      },
      "text/plain": [
       "FloatProgress(value=0.0, bar_style='info', description='Progress:', layout=Layout(height='25px', width='50%'),…"
      ]
     },
     "metadata": {},
     "output_type": "display_data"
    },
    {
     "name": "stdout",
     "output_type": "stream",
     "text": [
      "+-------+--------------------+----+--------------------+---+-----+-----+----+--------------------+--------+--------------------+------------+-----+--------------------+-----+-----+\n",
      "| symbol|      counter_userid|side|            order_id|fee|index|label|done|             user_id|fee_rate|     counter_orderid|        size|price|            trade_id|funds|   id|\n",
      "+-------+--------------------+----+--------------------+---+-----+-----+----+--------------------+--------+--------------------+------------+-----+--------------------+-----+-----+\n",
      "|DAI-BTC|6c3e226b4d4795d51...|null|28c73e9fd11424b7d...|0.0| 1665|    0|   1|0c0d62bb537b55ecb...|     0.0|6c3e226b4d4795d51...|   1422832.5|  0.0|68748a9290249902c...|  0.0| 1666|\n",
      "|DAI-BTC|6c3e226b4d4795d51...|null|ab12772f2f61f8e9b...|0.0| 8717|    0|   1|d162133ebabf9955d...|     0.0|6c3e226b4d4795d51...| 7238881.914|  0.0|fd76350e39119493d...|  0.0| 8718|\n",
      "|DAI-BTC|6c3e226b4d4795d51...|null|0acdd1f56a3e8411e...|0.0|19479|    0|   1|d162133ebabf9955d...|     0.0|6c3e226b4d4795d51...|3342742.6806|  0.0|18ec0e007cdc6a2be...|  0.0|19480|\n",
      "|DAI-BTC|6c3e226b4d4795d51...|null|928b43e0fe6d9b69b...|0.0|15198|    0|   1|a7920e0622c5f5ce6...|     0.0|6c3e226b4d4795d51...| 203408.1342|  0.0|7f88446cce1e4919d...|  0.0|15199|\n",
      "|DAI-BTC|6c3e226b4d4795d51...|null|8ee0d40b4aa562220...|0.0| 5684|    0|   1|d162133ebabf9955d...|     0.0|6c3e226b4d4795d51...| 7238881.914|  0.0|0db01bb80be001468...|  0.0| 5685|\n",
      "|DAI-BTC|6c3e226b4d4795d51...|null|5e8746de347d9bd4d...|0.0|  317|    0|   1|0c0d62bb537b55ecb...|     0.0|6c3e226b4d4795d51...|   1422832.5|  0.0|270639cf35c507b21...|  0.0|  318|\n",
      "|DAI-BTC|6c3e226b4d4795d51...|null|b665c0c666d348c09...|0.0|21150|    0|   1|d162133ebabf9955d...|     0.0|6c3e226b4d4795d51...|3177205.4202|  0.0|757bd5d40cde86557...|  0.0|21151|\n",
      "|DAI-BTC|6c3e226b4d4795d51...|null|0fb9f568786dd4f53...|0.0|10976|    0|   1|d9eaaa14faf09ec1c...|     0.0|6c3e226b4d4795d51...|1525665.3957|  0.0|5a2f70a654331ba42...|  0.0|10977|\n",
      "|DAI-BTC|6c3e226b4d4795d51...|null|8f1421568363435de...|0.0|17636|    0|   1|0c0d62bb537b55ecb...|     0.0|6c3e226b4d4795d51...|   1422832.5|  0.0|fccdda5ffd203672c...|  0.0|17637|\n",
      "|DAI-BTC|6c3e226b4d4795d51...|null|806cea148a662786b...|0.0| 9364|    0|   1|0c0d62bb537b55ecb...|     0.0|6c3e226b4d4795d51...|   1422832.5|  0.0|0ba2aa46fcc6fbc74...|  0.0| 9365|\n",
      "|DAI-BTC|6c3e226b4d4795d51...|null|16b335ecce8788d7d...|0.0|  921|    0|   1|a7920e0622c5f5ce6...|     0.0|6c3e226b4d4795d51...| 721909.5153|  0.0|6e4445837f2613feb...|  0.0|  922|\n",
      "|DAI-BTC|6c3e226b4d4795d51...|null|1b4ccd44f24a6aa22...|0.0|18709|    0|   1|d9eaaa14faf09ec1c...|     0.0|6c3e226b4d4795d51...|1555232.5452|  0.0|7e0a042b9e1d1ff5e...|  0.0|18710|\n",
      "|DAI-BTC|6c3e226b4d4795d51...|null|ec94fbe710f9d9d86...|0.0|21259|    0|   1|297d62083d5dabe98...|     0.0|6c3e226b4d4795d51...|1868052.2454|  0.0|98a39786af5b531de...|  0.0|21260|\n",
      "|DAI-BTC|6c3e226b4d4795d51...|null|58b6c9b7410851f1c...|0.0|13817|    0|   1|a7920e0622c5f5ce6...|     0.0|6c3e226b4d4795d51...|  185949.201|  0.0|203cafa06c28e4c8d...|  0.0|13818|\n",
      "|DAI-BTC|6c3e226b4d4795d51...|null|a6c67bff6075076df...|0.0|16805|    0|   1|a7920e0622c5f5ce6...|     0.0|6c3e226b4d4795d51...|1879193.1603|  0.0|c8ecc7f4c9b768ee6...|  0.0|16806|\n",
      "|DAI-BTC|6c3e226b4d4795d51...|null|81366f2903a34f573...|0.0| 1326|    0|   1|a7920e0622c5f5ce6...|     0.0|6c3e226b4d4795d51...| 138144.4365|  0.0|532cd7fe316160d30...|  0.0| 1327|\n",
      "|DAI-BTC|6c3e226b4d4795d51...|null|26a00ed50ccff6448...|0.0| 4834|    0|   1|0c0d62bb537b55ecb...|     0.0|6c3e226b4d4795d51...|   1422832.5|  0.0|b3af9a099a1789a46...|  0.0| 4835|\n",
      "|DAI-BTC|6c3e226b4d4795d51...|null|b5da213c50cc62dad...|0.0|22546|    0|   1|297d62083d5dabe98...|     0.0|6c3e226b4d4795d51...|1753511.6772|  0.0|4d71ad15ed8117882...|  0.0|22547|\n",
      "|DAI-BTC|6c3e226b4d4795d51...|null|ddce63c2dfb73c872...|0.0|15295|    0|   1|d162133ebabf9955d...|     0.0|6c3e226b4d4795d51...| 7238881.914|  0.0|4de190e139f384d45...|  0.0|15296|\n",
      "|DAI-BTC|6c3e226b4d4795d51...|null|6ce8100d14ea864cf...|0.0|18009|    0|   1|d162133ebabf9955d...|     0.0|6c3e226b4d4795d51...| 7238881.914|  0.0|78d52f072796942b5...|  0.0|18010|\n",
      "+-------+--------------------+----+--------------------+---+-----+-----+----+--------------------+--------+--------------------+------------+-----+--------------------+-----+-----+\n",
      "only showing top 20 rows"
     ]
    }
   ],
   "source": [
    "df=spark.read.csv(\"s3://anti-fraud-workshop/glue-data/\", header=True)\n",
    "df.show()"
   ]
  },
  {
   "cell_type": "code",
   "execution_count": 37,
   "metadata": {},
   "outputs": [
    {
     "data": {
      "application/vnd.jupyter.widget-view+json": {
       "model_id": "",
       "version_major": 2,
       "version_minor": 0
      },
      "text/plain": [
       "FloatProgress(value=0.0, bar_style='info', description='Progress:', layout=Layout(height='25px', width='50%'),…"
      ]
     },
     "metadata": {},
     "output_type": "display_data"
    },
    {
     "name": "stdout",
     "output_type": "stream",
     "text": [
      "+----+---+-----+----+--------------------+--------+------------+-----+-----+\n",
      "|side|fee|label|done|             user_id|fee_rate|        size|price|funds|\n",
      "+----+---+-----+----+--------------------+--------+------------+-----+-----+\n",
      "|null|0.0|    0|   1|0c0d62bb537b55ecb...|     0.0|   1422832.5|  0.0|  0.0|\n",
      "|null|0.0|    0|   1|d162133ebabf9955d...|     0.0| 7238881.914|  0.0|  0.0|\n",
      "|null|0.0|    0|   1|d162133ebabf9955d...|     0.0|3342742.6806|  0.0|  0.0|\n",
      "|null|0.0|    0|   1|a7920e0622c5f5ce6...|     0.0| 203408.1342|  0.0|  0.0|\n",
      "|null|0.0|    0|   1|d162133ebabf9955d...|     0.0| 7238881.914|  0.0|  0.0|\n",
      "|null|0.0|    0|   1|0c0d62bb537b55ecb...|     0.0|   1422832.5|  0.0|  0.0|\n",
      "|null|0.0|    0|   1|d162133ebabf9955d...|     0.0|3177205.4202|  0.0|  0.0|\n",
      "|null|0.0|    0|   1|d9eaaa14faf09ec1c...|     0.0|1525665.3957|  0.0|  0.0|\n",
      "|null|0.0|    0|   1|0c0d62bb537b55ecb...|     0.0|   1422832.5|  0.0|  0.0|\n",
      "|null|0.0|    0|   1|0c0d62bb537b55ecb...|     0.0|   1422832.5|  0.0|  0.0|\n",
      "|null|0.0|    0|   1|a7920e0622c5f5ce6...|     0.0| 721909.5153|  0.0|  0.0|\n",
      "|null|0.0|    0|   1|d9eaaa14faf09ec1c...|     0.0|1555232.5452|  0.0|  0.0|\n",
      "|null|0.0|    0|   1|297d62083d5dabe98...|     0.0|1868052.2454|  0.0|  0.0|\n",
      "|null|0.0|    0|   1|a7920e0622c5f5ce6...|     0.0|  185949.201|  0.0|  0.0|\n",
      "|null|0.0|    0|   1|a7920e0622c5f5ce6...|     0.0|1879193.1603|  0.0|  0.0|\n",
      "|null|0.0|    0|   1|a7920e0622c5f5ce6...|     0.0| 138144.4365|  0.0|  0.0|\n",
      "|null|0.0|    0|   1|0c0d62bb537b55ecb...|     0.0|   1422832.5|  0.0|  0.0|\n",
      "|null|0.0|    0|   1|297d62083d5dabe98...|     0.0|1753511.6772|  0.0|  0.0|\n",
      "|null|0.0|    0|   1|d162133ebabf9955d...|     0.0| 7238881.914|  0.0|  0.0|\n",
      "|null|0.0|    0|   1|d162133ebabf9955d...|     0.0| 7238881.914|  0.0|  0.0|\n",
      "+----+---+-----+----+--------------------+--------+------------+-----+-----+\n",
      "only showing top 20 rows"
     ]
    }
   ],
   "source": [
    "df.drop(\"symbol\",\"trade_id\",\"counter_userid\",\"order_id\",\"counter_orderid\",\"id\",\"index\")\n",
    "df.show()"
   ]
  },
  {
   "cell_type": "code",
   "execution_count": 39,
   "metadata": {},
   "outputs": [
    {
     "data": {
      "application/vnd.jupyter.widget-view+json": {
       "model_id": "",
       "version_major": 2,
       "version_minor": 0
      },
      "text/plain": [
       "FloatProgress(value=0.0, bar_style='info', description='Progress:', layout=Layout(height='25px', width='50%'),…"
      ]
     },
     "metadata": {},
     "output_type": "display_data"
    },
    {
     "name": "stdout",
     "output_type": "stream",
     "text": [
      "+---+-----+----+--------------------+--------+------------+-----+-----+------------+\n",
      "|fee|label|done|             user_id|fee_rate|        size|price|funds|side_process|\n",
      "+---+-----+----+--------------------+--------+------------+-----+-----+------------+\n",
      "|0.0|    0|   1|0c0d62bb537b55ecb...|     0.0|   1422832.5|  0.0|  0.0|           0|\n",
      "|0.0|    0|   1|d162133ebabf9955d...|     0.0| 7238881.914|  0.0|  0.0|           0|\n",
      "|0.0|    0|   1|d162133ebabf9955d...|     0.0|3342742.6806|  0.0|  0.0|           0|\n",
      "|0.0|    0|   1|a7920e0622c5f5ce6...|     0.0| 203408.1342|  0.0|  0.0|           0|\n",
      "|0.0|    0|   1|d162133ebabf9955d...|     0.0| 7238881.914|  0.0|  0.0|           0|\n",
      "|0.0|    0|   1|0c0d62bb537b55ecb...|     0.0|   1422832.5|  0.0|  0.0|           0|\n",
      "|0.0|    0|   1|d162133ebabf9955d...|     0.0|3177205.4202|  0.0|  0.0|           0|\n",
      "|0.0|    0|   1|d9eaaa14faf09ec1c...|     0.0|1525665.3957|  0.0|  0.0|           0|\n",
      "|0.0|    0|   1|0c0d62bb537b55ecb...|     0.0|   1422832.5|  0.0|  0.0|           0|\n",
      "|0.0|    0|   1|0c0d62bb537b55ecb...|     0.0|   1422832.5|  0.0|  0.0|           0|\n",
      "|0.0|    0|   1|a7920e0622c5f5ce6...|     0.0| 721909.5153|  0.0|  0.0|           0|\n",
      "|0.0|    0|   1|d9eaaa14faf09ec1c...|     0.0|1555232.5452|  0.0|  0.0|           0|\n",
      "|0.0|    0|   1|297d62083d5dabe98...|     0.0|1868052.2454|  0.0|  0.0|           0|\n",
      "|0.0|    0|   1|a7920e0622c5f5ce6...|     0.0|  185949.201|  0.0|  0.0|           0|\n",
      "|0.0|    0|   1|a7920e0622c5f5ce6...|     0.0|1879193.1603|  0.0|  0.0|           0|\n",
      "|0.0|    0|   1|a7920e0622c5f5ce6...|     0.0| 138144.4365|  0.0|  0.0|           0|\n",
      "|0.0|    0|   1|0c0d62bb537b55ecb...|     0.0|   1422832.5|  0.0|  0.0|           0|\n",
      "|0.0|    0|   1|297d62083d5dabe98...|     0.0|1753511.6772|  0.0|  0.0|           0|\n",
      "|0.0|    0|   1|d162133ebabf9955d...|     0.0| 7238881.914|  0.0|  0.0|           0|\n",
      "|0.0|    0|   1|d162133ebabf9955d...|     0.0| 7238881.914|  0.0|  0.0|           0|\n",
      "+---+-----+----+--------------------+--------+------------+-----+-----+------------+\n",
      "only showing top 20 rows"
     ]
    }
   ],
   "source": [
    "# 转化side列\n",
    "from pyspark.sql.functions import col, create_map, lit\n",
    "from itertools import chain\n",
    "\n",
    "mapping = {'buy': 2, 'sell': 1}\n",
    "\n",
    "mapping_expr = create_map([lit(x) for x in chain(*mapping.items())])\n",
    "\n",
    "df = df.withColumn(\"side_process\", mapping_expr.getItem(col(\"side\")))\n",
    "\n",
    "df = df.fillna(0, subset=['side_process'])\n",
    "\n",
    "df = df.drop('side')\n",
    "\n",
    "df.show()"
   ]
  },
  {
   "cell_type": "code",
   "execution_count": 18,
   "metadata": {},
   "outputs": [
    {
     "data": {
      "application/vnd.jupyter.widget-view+json": {
       "model_id": "",
       "version_major": 2,
       "version_minor": 0
      },
      "text/plain": [
       "FloatProgress(value=0.0, bar_style='info', description='Progress:', layout=Layout(height='25px', width='50%'),…"
      ]
     },
     "metadata": {},
     "output_type": "display_data"
    }
   ],
   "source": [
    "# 切分数据集\n",
    "train_df, test_df = data.randomSplit([0.9, 0.1], 42)\n",
    "train_df, val_df = train_df.randomSplit([0.8, 0.2], 42)"
   ]
  },
  {
   "cell_type": "code",
   "execution_count": null,
   "metadata": {},
   "outputs": [],
   "source": [
    "# 删除user_id列，训练数据不需要这一列\n",
    "train_df = train_df.drop('user_id')\n",
    "val_df = val_df.drop('user_id')"
   ]
  },
  {
   "cell_type": "code",
   "execution_count": 33,
   "metadata": {},
   "outputs": [
    {
     "data": {
      "application/vnd.jupyter.widget-view+json": {
       "model_id": "",
       "version_major": 2,
       "version_minor": 0
      },
      "text/plain": [
       "FloatProgress(value=0.0, bar_style='info', description='Progress:', layout=Layout(height='25px', width='50%'),…"
      ]
     },
     "metadata": {},
     "output_type": "display_data"
    }
   ],
   "source": [
    "# shuffle data\n",
    "from pyspark.sql.functions import rand\n",
    "\n",
    "def shuffle_df(df):\n",
    "    df_with_rand = df.withColumn('rand', rand(seed=42)).orderBy('rand')\n",
    "    df_shuffle = df_with_rand.drop('rand')\n",
    "    return df_shuffle\n",
    "\n",
    "train_df_shuffle = shuffle_df(train_df)\n",
    "val_df_shuffle = shuffle_df(val_df)\n",
    "test_df_shuffle = shuffle_df(test_df)"
   ]
  },
  {
   "cell_type": "code",
   "execution_count": 35,
   "metadata": {},
   "outputs": [
    {
     "data": {
      "application/vnd.jupyter.widget-view+json": {
       "model_id": "",
       "version_major": 2,
       "version_minor": 0
      },
      "text/plain": [
       "FloatProgress(value=0.0, bar_style='info', description='Progress:', layout=Layout(height='25px', width='50%'),…"
      ]
     },
     "metadata": {},
     "output_type": "display_data"
    }
   ],
   "source": [
    "# 上传至s3\n",
    "train_df_shuffle.coalesce(1).write.csv(\"s3://sagemaker-us-east-1-851108988172/detect-workshop/data_processed/xgboost_train\")\n",
    "val_df_shuffle.coalesce(1).write.csv(\"s3://sagemaker-us-east-1-851108988172/detect-workshop/data_processed/xgboost_val\")\n",
    "test_df_shuffle.coalesce(1).write.csv(\"s3://sagemaker-us-east-1-851108988172/detect-workshop/data_processed/xgboost_test\")"
   ]
  },
  {
   "cell_type": "code",
   "execution_count": null,
   "metadata": {},
   "outputs": [],
   "source": []
  }
 ],
 "metadata": {
  "instance_type": "ml.t3.medium",
  "kernelspec": {
   "display_name": "PySpark (SparkMagic)",
   "language": "python",
   "name": "pysparkkernel__SAGEMAKER_INTERNAL__arn:aws:sagemaker:us-east-1:081325390199:image/sagemaker-sparkmagic"
  },
  "language_info": {
   "codemirror_mode": {
    "name": "python",
    "version": 3
   },
   "file_extension": ".py",
   "mimetype": "text/x-python",
   "name": "pyspark",
   "pygments_lexer": "python3"
  }
 },
 "nbformat": 4,
 "nbformat_minor": 4
}
